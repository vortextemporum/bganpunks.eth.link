{
 "cells": [
  {
   "cell_type": "code",
   "execution_count": 32,
   "metadata": {},
   "outputs": [],
   "source": [
    "from web3 import Web3\n",
    "import requests\n",
    "\n",
    "web3 = Web3(Web3.HTTPProvider(\"https://mainnet.infura.io/v3/4d6d6270fa6b4b87ae2b329280e7fbf7\"))\n",
    "ADDRESS = \"0x9126B817CCca682BeaA9f4EaE734948EE1166Af1\"\n",
    "ABI = '[{\"inputs\":[{\"internalType\":\"string\",\"name\":\"name\",\"type\":\"string\"},{\"internalType\":\"string\",\"name\":\"symbol\",\"type\":\"string\"},{\"internalType\":\"string\",\"name\":\"contractURIPrefix\",\"type\":\"string\"},{\"internalType\":\"string\",\"name\":\"tokenURIPrefix\",\"type\":\"string\"},{\"internalType\":\"address\",\"name\":\"signer\",\"type\":\"address\"}],\"payable\":false,\"stateMutability\":\"nonpayable\",\"type\":\"constructor\"},{\"anonymous\":false,\"inputs\":[{\"indexed\":true,\"internalType\":\"address\",\"name\":\"owner\",\"type\":\"address\"},{\"indexed\":true,\"internalType\":\"address\",\"name\":\"approved\",\"type\":\"address\"},{\"indexed\":true,\"internalType\":\"uint256\",\"name\":\"tokenId\",\"type\":\"uint256\"}],\"name\":\"Approval\",\"type\":\"event\"},{\"anonymous\":false,\"inputs\":[{\"indexed\":true,\"internalType\":\"address\",\"name\":\"owner\",\"type\":\"address\"},{\"indexed\":true,\"internalType\":\"address\",\"name\":\"operator\",\"type\":\"address\"},{\"indexed\":false,\"internalType\":\"bool\",\"name\":\"approved\",\"type\":\"bool\"}],\"name\":\"ApprovalForAll\",\"type\":\"event\"},{\"anonymous\":false,\"inputs\":[{\"indexed\":true,\"internalType\":\"address\",\"name\":\"creator\",\"type\":\"address\"},{\"indexed\":false,\"internalType\":\"string\",\"name\":\"name\",\"type\":\"string\"},{\"indexed\":false,\"internalType\":\"string\",\"name\":\"symbol\",\"type\":\"string\"}],\"name\":\"Create\",\"type\":\"event\"},{\"anonymous\":false,\"inputs\":[{\"indexed\":true,\"internalType\":\"address\",\"name\":\"previousOwner\",\"type\":\"address\"},{\"indexed\":true,\"internalType\":\"address\",\"name\":\"newOwner\",\"type\":\"address\"}],\"name\":\"OwnershipTransferred\",\"type\":\"event\"},{\"anonymous\":false,\"inputs\":[{\"indexed\":true,\"internalType\":\"address\",\"name\":\"account\",\"type\":\"address\"}],\"name\":\"SignerAdded\",\"type\":\"event\"},{\"anonymous\":false,\"inputs\":[{\"indexed\":true,\"internalType\":\"address\",\"name\":\"account\",\"type\":\"address\"}],\"name\":\"SignerRemoved\",\"type\":\"event\"},{\"anonymous\":false,\"inputs\":[{\"indexed\":true,\"internalType\":\"address\",\"name\":\"from\",\"type\":\"address\"},{\"indexed\":true,\"internalType\":\"address\",\"name\":\"to\",\"type\":\"address\"},{\"indexed\":true,\"internalType\":\"uint256\",\"name\":\"tokenId\",\"type\":\"uint256\"}],\"name\":\"Transfer\",\"type\":\"event\"},{\"constant\":false,\"inputs\":[{\"internalType\":\"address\",\"name\":\"account\",\"type\":\"address\"}],\"name\":\"addSigner\",\"outputs\":[],\"payable\":false,\"stateMutability\":\"nonpayable\",\"type\":\"function\"},{\"constant\":false,\"inputs\":[{\"internalType\":\"address\",\"name\":\"to\",\"type\":\"address\"},{\"internalType\":\"uint256\",\"name\":\"tokenId\",\"type\":\"uint256\"}],\"name\":\"approve\",\"outputs\":[],\"payable\":false,\"stateMutability\":\"nonpayable\",\"type\":\"function\"},{\"constant\":true,\"inputs\":[{\"internalType\":\"address\",\"name\":\"owner\",\"type\":\"address\"}],\"name\":\"balanceOf\",\"outputs\":[{\"internalType\":\"uint256\",\"name\":\"\",\"type\":\"uint256\"}],\"payable\":false,\"stateMutability\":\"view\",\"type\":\"function\"},{\"constant\":false,\"inputs\":[{\"internalType\":\"uint256\",\"name\":\"tokenId\",\"type\":\"uint256\"}],\"name\":\"burn\",\"outputs\":[],\"payable\":false,\"stateMutability\":\"nonpayable\",\"type\":\"function\"},{\"constant\":true,\"inputs\":[],\"name\":\"contractURI\",\"outputs\":[{\"internalType\":\"string\",\"name\":\"\",\"type\":\"string\"}],\"payable\":false,\"stateMutability\":\"view\",\"type\":\"function\"},{\"constant\":true,\"inputs\":[],\"name\":\"contractURIPrefix\",\"outputs\":[{\"internalType\":\"string\",\"name\":\"\",\"type\":\"string\"}],\"payable\":false,\"stateMutability\":\"view\",\"type\":\"function\"},{\"constant\":true,\"inputs\":[{\"internalType\":\"uint256\",\"name\":\"tokenId\",\"type\":\"uint256\"}],\"name\":\"getApproved\",\"outputs\":[{\"internalType\":\"address\",\"name\":\"\",\"type\":\"address\"}],\"payable\":false,\"stateMutability\":\"view\",\"type\":\"function\"},{\"constant\":true,\"inputs\":[{\"internalType\":\"address\",\"name\":\"owner\",\"type\":\"address\"},{\"internalType\":\"address\",\"name\":\"operator\",\"type\":\"address\"}],\"name\":\"isApprovedForAll\",\"outputs\":[{\"internalType\":\"bool\",\"name\":\"\",\"type\":\"bool\"}],\"payable\":false,\"stateMutability\":\"view\",\"type\":\"function\"},{\"constant\":true,\"inputs\":[],\"name\":\"isOwner\",\"outputs\":[{\"internalType\":\"bool\",\"name\":\"\",\"type\":\"bool\"}],\"payable\":false,\"stateMutability\":\"view\",\"type\":\"function\"},{\"constant\":true,\"inputs\":[{\"internalType\":\"address\",\"name\":\"account\",\"type\":\"address\"}],\"name\":\"isSigner\",\"outputs\":[{\"internalType\":\"bool\",\"name\":\"\",\"type\":\"bool\"}],\"payable\":false,\"stateMutability\":\"view\",\"type\":\"function\"},{\"constant\":false,\"inputs\":[{\"internalType\":\"uint256\",\"name\":\"tokenId\",\"type\":\"uint256\"},{\"internalType\":\"uint8\",\"name\":\"v\",\"type\":\"uint8\"},{\"internalType\":\"bytes32\",\"name\":\"r\",\"type\":\"bytes32\"},{\"internalType\":\"bytes32\",\"name\":\"s\",\"type\":\"bytes32\"},{\"internalType\":\"string\",\"name\":\"tokenURI\",\"type\":\"string\"}],\"name\":\"mint\",\"outputs\":[],\"payable\":false,\"stateMutability\":\"nonpayable\",\"type\":\"function\"},{\"constant\":true,\"inputs\":[],\"name\":\"name\",\"outputs\":[{\"internalType\":\"string\",\"name\":\"\",\"type\":\"string\"}],\"payable\":false,\"stateMutability\":\"view\",\"type\":\"function\"},{\"constant\":true,\"inputs\":[],\"name\":\"owner\",\"outputs\":[{\"internalType\":\"address\",\"name\":\"\",\"type\":\"address\"}],\"payable\":false,\"stateMutability\":\"view\",\"type\":\"function\"},{\"constant\":true,\"inputs\":[{\"internalType\":\"uint256\",\"name\":\"tokenId\",\"type\":\"uint256\"}],\"name\":\"ownerOf\",\"outputs\":[{\"internalType\":\"address\",\"name\":\"\",\"type\":\"address\"}],\"payable\":false,\"stateMutability\":\"view\",\"type\":\"function\"},{\"constant\":false,\"inputs\":[{\"internalType\":\"address\",\"name\":\"account\",\"type\":\"address\"}],\"name\":\"removeSigner\",\"outputs\":[],\"payable\":false,\"stateMutability\":\"nonpayable\",\"type\":\"function\"},{\"constant\":false,\"inputs\":[],\"name\":\"renounceOwnership\",\"outputs\":[],\"payable\":false,\"stateMutability\":\"nonpayable\",\"type\":\"function\"},{\"constant\":false,\"inputs\":[],\"name\":\"renounceSigner\",\"outputs\":[],\"payable\":false,\"stateMutability\":\"nonpayable\",\"type\":\"function\"},{\"constant\":false,\"inputs\":[{\"internalType\":\"address\",\"name\":\"from\",\"type\":\"address\"},{\"internalType\":\"address\",\"name\":\"to\",\"type\":\"address\"},{\"internalType\":\"uint256\",\"name\":\"tokenId\",\"type\":\"uint256\"}],\"name\":\"safeTransferFrom\",\"outputs\":[],\"payable\":false,\"stateMutability\":\"nonpayable\",\"type\":\"function\"},{\"constant\":false,\"inputs\":[{\"internalType\":\"address\",\"name\":\"from\",\"type\":\"address\"},{\"internalType\":\"address\",\"name\":\"to\",\"type\":\"address\"},{\"internalType\":\"uint256\",\"name\":\"tokenId\",\"type\":\"uint256\"},{\"internalType\":\"bytes\",\"name\":\"_data\",\"type\":\"bytes\"}],\"name\":\"safeTransferFrom\",\"outputs\":[],\"payable\":false,\"stateMutability\":\"nonpayable\",\"type\":\"function\"},{\"constant\":false,\"inputs\":[{\"internalType\":\"address\",\"name\":\"to\",\"type\":\"address\"},{\"internalType\":\"bool\",\"name\":\"approved\",\"type\":\"bool\"}],\"name\":\"setApprovalForAll\",\"outputs\":[],\"payable\":false,\"stateMutability\":\"nonpayable\",\"type\":\"function\"},{\"constant\":false,\"inputs\":[{\"internalType\":\"string\",\"name\":\"contractURIPrefix\",\"type\":\"string\"}],\"name\":\"setContractURIPrefix\",\"outputs\":[],\"payable\":false,\"stateMutability\":\"nonpayable\",\"type\":\"function\"},{\"constant\":false,\"inputs\":[{\"internalType\":\"string\",\"name\":\"tokenURIPrefix\",\"type\":\"string\"}],\"name\":\"setTokenURIPrefix\",\"outputs\":[],\"payable\":false,\"stateMutability\":\"nonpayable\",\"type\":\"function\"},{\"constant\":true,\"inputs\":[{\"internalType\":\"bytes4\",\"name\":\"interfaceId\",\"type\":\"bytes4\"}],\"name\":\"supportsInterface\",\"outputs\":[{\"internalType\":\"bool\",\"name\":\"\",\"type\":\"bool\"}],\"payable\":false,\"stateMutability\":\"view\",\"type\":\"function\"},{\"constant\":true,\"inputs\":[],\"name\":\"symbol\",\"outputs\":[{\"internalType\":\"string\",\"name\":\"\",\"type\":\"string\"}],\"payable\":false,\"stateMutability\":\"view\",\"type\":\"function\"},{\"constant\":true,\"inputs\":[{\"internalType\":\"address\",\"name\":\"_addr\",\"type\":\"address\"}],\"name\":\"toString\",\"outputs\":[{\"internalType\":\"string\",\"name\":\"\",\"type\":\"string\"}],\"payable\":false,\"stateMutability\":\"pure\",\"type\":\"function\"},{\"constant\":true,\"inputs\":[{\"internalType\":\"uint256\",\"name\":\"index\",\"type\":\"uint256\"}],\"name\":\"tokenByIndex\",\"outputs\":[{\"internalType\":\"uint256\",\"name\":\"\",\"type\":\"uint256\"}],\"payable\":false,\"stateMutability\":\"view\",\"type\":\"function\"},{\"constant\":true,\"inputs\":[{\"internalType\":\"address\",\"name\":\"owner\",\"type\":\"address\"},{\"internalType\":\"uint256\",\"name\":\"index\",\"type\":\"uint256\"}],\"name\":\"tokenOfOwnerByIndex\",\"outputs\":[{\"internalType\":\"uint256\",\"name\":\"\",\"type\":\"uint256\"}],\"payable\":false,\"stateMutability\":\"view\",\"type\":\"function\"},{\"constant\":true,\"inputs\":[{\"internalType\":\"uint256\",\"name\":\"tokenId\",\"type\":\"uint256\"}],\"name\":\"tokenURI\",\"outputs\":[{\"internalType\":\"string\",\"name\":\"\",\"type\":\"string\"}],\"payable\":false,\"stateMutability\":\"view\",\"type\":\"function\"},{\"constant\":true,\"inputs\":[],\"name\":\"tokenURIPrefix\",\"outputs\":[{\"internalType\":\"string\",\"name\":\"\",\"type\":\"string\"}],\"payable\":false,\"stateMutability\":\"view\",\"type\":\"function\"},{\"constant\":true,\"inputs\":[],\"name\":\"totalSupply\",\"outputs\":[{\"internalType\":\"uint256\",\"name\":\"\",\"type\":\"uint256\"}],\"payable\":false,\"stateMutability\":\"view\",\"type\":\"function\"},{\"constant\":false,\"inputs\":[{\"internalType\":\"address\",\"name\":\"from\",\"type\":\"address\"},{\"internalType\":\"address\",\"name\":\"to\",\"type\":\"address\"},{\"internalType\":\"uint256\",\"name\":\"tokenId\",\"type\":\"uint256\"}],\"name\":\"transferFrom\",\"outputs\":[],\"payable\":false,\"stateMutability\":\"nonpayable\",\"type\":\"function\"},{\"constant\":false,\"inputs\":[{\"internalType\":\"address\",\"name\":\"newOwner\",\"type\":\"address\"}],\"name\":\"transferOwnership\",\"outputs\":[],\"payable\":false,\"stateMutability\":\"nonpayable\",\"type\":\"function\"}]'\n",
    "bganpunksContract = web3.eth.contract(address=ADDRESS, abi=ABI)\n"
   ]
  },
  {
   "cell_type": "code",
   "execution_count": 33,
   "metadata": {},
   "outputs": [
    {
     "name": "stdout",
     "output_type": "stream",
     "text": [
      "Total Punks minted:  74\n"
     ]
    }
   ],
   "source": [
    "totalPunks = bganpunksContract.functions.totalSupply().call()\n",
    "print(\"Total Punks minted: \", totalPunks)"
   ]
  },
  {
   "cell_type": "code",
   "execution_count": 34,
   "metadata": {},
   "outputs": [
    {
     "name": "stdout",
     "output_type": "stream",
     "text": [
      "[{'name': ' DØØMΞD DΞGΞN #28/30', 'image': 'https://ipfs.rarible.com/ipfs/QmSq1FodTb1uULDqo48Z2B9NBJyyxLQ1ngn8vZNStiUbaf/image.png', 'tokenId': '10093'}, {'name': 'DØØMΞD DΞGΞN #01/30', 'image': 'https://ipfs.rarible.com/ipfs/QmaBZzBNyRJ39Y5mXgEUVp9EfoPBgiZyASfNiRaGXAWBzZ/image.png', 'tokenId': '10056'}, {'name': 'DØØMΞD DΞGΞN #02/30', 'image': 'https://ipfs.rarible.com/ipfs/Qmc7K3zmytBP6AhuyM4jDWk8D4jV45eUVgaxNB7X7o3uV2/image.png', 'tokenId': '10057'}, {'name': 'DØØMΞD DΞGΞN #03/30', 'image': 'https://ipfs.rarible.com/ipfs/QmezZB97BWvkRKdE5esWJSt59PtTa3oyAm5fbkbWyGVcAV/image.png', 'tokenId': '10058'}, {'name': 'DØØMΞD DΞGΞN #04/30', 'image': 'https://ipfs.rarible.com/ipfs/QmXFuQrLp9d4eeqxhfJ2A3rERrnUVunh5oLBHTghbL5c6z/image.png', 'tokenId': '10059'}, {'name': 'DØØMΞD DΞGΞN #05/30', 'image': 'https://ipfs.rarible.com/ipfs/QmczgTqP1BeesJnz9Q4fy7Umx6VmUbPV9HQ2t4r2nvUU1L/image.png', 'tokenId': '10061'}, {'name': 'DØØMΞD DΞGΞN #06/30', 'image': 'https://ipfs.rarible.com/ipfs/QmcS6TQnmtWZupfqQ3UuP8WCrvf4z6aYYBqcBf1YgGoCr7/image.png', 'tokenId': '10062'}, {'name': 'DØØMΞD DΞGΞN #07/30', 'image': 'https://ipfs.rarible.com/ipfs/QmUKmjzhucJxUU4kz7LruHoKUkNV8q5dptc9Xw4nZ5bYTJ/image.png', 'tokenId': '10063'}, {'name': 'DØØMΞD DΞGΞN #08/30', 'image': 'https://ipfs.rarible.com/ipfs/QmQXkTayKSou9XumimqriSAm3fXQHQWpDN1rcm4y9SBNVn/image.png', 'tokenId': '10064'}, {'name': 'DØØMΞD DΞGΞN #09/30', 'image': 'https://ipfs.rarible.com/ipfs/QmVTLbNoCXF5eKj2HXE7TFxtnE63JPwLacNLdRbPvFg6Cr/image.png', 'tokenId': '10067'}, {'name': 'DØØMΞD DΞGΞN #10/30', 'image': 'https://ipfs.rarible.com/ipfs/QmdefpQqJDqNt8YvGbxRKm93jWVHgZfhxkAoapuL2u2BCC/image.png', 'tokenId': '10068'}, {'name': 'DØØMΞD DΞGΞN #11/30', 'image': 'https://ipfs.rarible.com/ipfs/QmXzJWcqxWETQVfEk5vmt7ux3MU1hjwqgc5ZDxYvD5KnWa/image.png', 'tokenId': '10070'}, {'name': 'DØØMΞD DΞGΞN #12/30', 'image': 'https://ipfs.rarible.com/ipfs/QmWyYuKHBs6efTbxKAnKU3HGUZ6zoqkewQchdLmDdRxUir/image.png', 'tokenId': '10076'}, {'name': 'DØØMΞD DΞGΞN #13/30', 'image': 'https://ipfs.rarible.com/ipfs/QmXobFWCSwZohkoxjvke71KQERFSUQb2t9Stus8y5wzU8P/image.png', 'tokenId': '10077'}, {'name': 'DØØMΞD DΞGΞN #14/30', 'image': 'https://ipfs.rarible.com/ipfs/QmPj5385K8Y6jWV7231o4yXvtTKdgBsG6FX4tUKuFwRsyy/image.png', 'tokenId': '10078'}, {'name': 'DØØMΞD DΞGΞN #15/30', 'image': 'https://ipfs.rarible.com/ipfs/QmYUx84B7WHTMMxYn1Dg7AzekW28pkurEzmUSqWoC6DxJL/image.png', 'tokenId': '10075'}, {'name': 'DØØMΞD DΞGΞN #16/30', 'image': 'https://ipfs.rarible.com/ipfs/QmYofPZNTYSGfYgZj3CVDzkgC6yD6LLxVBojBroZSo3BFX/image.png', 'tokenId': '10079'}, {'name': 'DØØMΞD DΞGΞN #17/30', 'image': 'https://ipfs.rarible.com/ipfs/QmZUDsLtKHcZTHtZJno56UkPn7dzw433j6XyuNWgbvFoBA/image.png', 'tokenId': '10080'}, {'name': 'DØØMΞD DΞGΞN #18/30', 'image': 'https://ipfs.rarible.com/ipfs/Qma876845zU58CAKseFAQZQ1ATDDMN9kuk27s1azzLbabA/image.png', 'tokenId': '10081'}, {'name': 'DØØMΞD DΞGΞN #19/30', 'image': 'https://ipfs.rarible.com/ipfs/Qmbin3TSqrahfY7HNHbgb4v1PSWFW2DWcDz6JiiBfamugW/image.png', 'tokenId': '10083'}, {'name': 'DØØMΞD DΞGΞN #20/30', 'image': 'https://ipfs.rarible.com/ipfs/QmQjrPUDbK8oaHosWbz7NLxAhZwHtHtBMtpxEm5qCXCczZ/image.png', 'tokenId': '10084'}, {'name': 'DØØMΞD DΞGΞN #21/30', 'image': 'https://ipfs.rarible.com/ipfs/QmWb2vkBmygWUjaFjwXsrHFyhgbwxTeJP4TejbVp6W2ZRc/image.png', 'tokenId': '10085'}, {'name': 'DØØMΞD DΞGΞN #22/30', 'image': 'https://ipfs.rarible.com/ipfs/QmNppcjMWmc73Y6p6iC5mzQjXPzYRg8jxxsxbHD5tF4TFD/image.png', 'tokenId': '10086'}, {'name': 'DØØMΞD DΞGΞN #23/30', 'image': 'https://ipfs.rarible.com/ipfs/QmPQKkz3W5fuPEmt6VgwbyScMwv9bxViz7aaghC1WZRCs4/image.png', 'tokenId': '10087'}, {'name': 'DØØMΞD DΞGΞN #24/30', 'image': 'https://ipfs.rarible.com/ipfs/QmT5threvBpJkY5cW9YdsnH6otPKvmcYY63Kbhxb2yFRRQ/image.png', 'tokenId': '10088'}, {'name': 'DØØMΞD DΞGΞN #25/30', 'image': 'https://ipfs.rarible.com/ipfs/QmauCrs8V2cW5ZhyTSCtaj3mJTVSrPv9Z8pSdm9fRXFcMr/image.png', 'tokenId': '10089'}, {'name': 'DØØMΞD DΞGΞN #26/30', 'image': 'https://ipfs.rarible.com/ipfs/QmaDyLa76cCaU7u6NnQBRfnpb5a2nHnYuaP9SYUNyAzUuq/image.png', 'tokenId': '10090'}, {'name': 'DØØMΞD DΞGΞN #27/30', 'image': 'https://ipfs.rarible.com/ipfs/QmQD6yuE6ryWWCq7yipGNcMCpi1MhXyJ6vBeQkFrALnJ8Q/image.png', 'tokenId': '10091'}, {'name': 'DØØMΞD DΞGΞN #29/30', 'image': 'https://ipfs.rarible.com/ipfs/QmRoMK4XrNRoQdfriFHSybZxWYfpbTi6HfmLsWksU7pCoq/image.png', 'tokenId': '10094'}, {'name': 'DØØMΞD DΞGΞN #30/30', 'image': 'https://ipfs.rarible.com/ipfs/QmPBLouX4M9wvvok3dRv6hmH4fwQW74DqgLgDMUeUiWfi8/image.png', 'tokenId': '10095'}]\n"
     ]
    }
   ],
   "source": [
    "doomedDegens = []\n",
    "\n",
    "for i in range(44, totalPunks):\n",
    "    metadata = {}\n",
    "    jsonFile = getMetadata(i)\n",
    "    metadata[\"name\"] = jsonFile[\"name\"]\n",
    "    metadata[\"image\"] = jsonFile[\"image\"].replace(\"ipfs://\",\"https://ipfs.rarible.com/\")\n",
    "    metadata[\"tokenId\"] = str(jsonFile[\"tokenId\"])\n",
    "    \n",
    "    doomedDegens.append(metadata)\n",
    "\n",
    "    \n",
    "doomedDegensSorted = sorted(doomedDegens, key=lambda k: k['name']) \n",
    "print(doomedDegensSorted)"
   ]
  },
  {
   "cell_type": "code",
   "execution_count": 8,
   "metadata": {},
   "outputs": [],
   "source": []
  },
  {
   "cell_type": "code",
   "execution_count": 22,
   "metadata": {},
   "outputs": [],
   "source": [
    "\n",
    "def getMetadata(index):\n",
    "\n",
    "    idnumber = bganpunksContract.functions.tokenByIndex(index).call()\n",
    "    tokenuri = bganpunksContract.functions.tokenURI(idnumber).call()\n",
    "    newtokenuri = tokenuri.replace(\"daonomic\",\"rarible\")    \n",
    "    r = requests.get(url=newtokenuri)\n",
    "    metadata = r.json()\n",
    "    metadata[\"tokenId\"] = idnumber\n",
    "    return metadata\n"
   ]
  },
  {
   "cell_type": "code",
   "execution_count": 17,
   "metadata": {},
   "outputs": [
    {
     "name": "stdout",
     "output_type": "stream",
     "text": [
      "{'name': 'DØØMΞD DΞGΞN #01/30', 'description': 'I AM A DØØMΞD DΞGΞN (NO #01) >> WHO GOT RΞKT AGAIN AND AGAIN BY FUDDERS, RUGPULLERS, VALUELESS $HIT YIELDFARMS, NEGATIVE REBASES, VAMPIRIC ARBITRAGE BOTS, FAKE SCAM AIRDROPS && UGLY STINKY WHALES.', 'image': 'ipfs://ipfs/QmaBZzBNyRJ39Y5mXgEUVp9EfoPBgiZyASfNiRaGXAWBzZ/image.png', 'external_url': 'https://app.rarible.com/token/0x9126b817ccca682beaa9f4eae734948ee1166af1:10056', 'attributes': [{'key': 'Series', 'trait_type': 'Series', 'value': 'DØØMΞD DΞGΞNS'}, {'key': 'DØØMΞD DΞGΞN ID', 'trait_type': 'DØØMΞD DΞGΞN ID', 'value': '1'}, {'key': 'Total', 'trait_type': 'Total', 'value': '30'}]}\n"
     ]
    }
   ],
   "source": [
    "\n",
    "r = requests.get(url=newtokenuri)\n",
    "print(r.json())"
   ]
  },
  {
   "cell_type": "code",
   "execution_count": 23,
   "metadata": {},
   "outputs": [
    {
     "data": {
      "text/plain": [
       "{'name': 'DØØMΞD DΞGΞN #02/30',\n",
       " 'description': 'I AM A DØØMΞD DΞGΞN (NO #02) >> WHO GOT RΞKT AGAIN AND AGAIN BY FUDDERS, RUGPULLERS, VALUELESS $HIT YIELDFARMS, NEGATIVE REBASES, VAMPIRIC ARBITRAGE BOTS, FAKE SCAM AIRDROPS && UGLY STINKY WHALES.',\n",
       " 'image': 'ipfs://ipfs/Qmc7K3zmytBP6AhuyM4jDWk8D4jV45eUVgaxNB7X7o3uV2/image.png',\n",
       " 'external_url': 'https://app.rarible.com/token/0x9126b817ccca682beaa9f4eae734948ee1166af1:10057',\n",
       " 'attributes': [{'key': 'Series',\n",
       "   'trait_type': 'Series',\n",
       "   'value': 'DØØMΞD DΞGΞNS'},\n",
       "  {'key': 'DØØMΞD DΞGΞN ID', 'trait_type': 'DØØMΞD DΞGΞN ID', 'value': '2'},\n",
       "  {'key': 'Total', 'trait_type': 'Total', 'value': '30'}],\n",
       " 'tokenId': 10057}"
      ]
     },
     "execution_count": 23,
     "metadata": {},
     "output_type": "execute_result"
    }
   ],
   "source": [
    "getMetadata(45)"
   ]
  },
  {
   "cell_type": "code",
   "execution_count": null,
   "metadata": {},
   "outputs": [],
   "source": []
  }
 ],
 "metadata": {
  "kernelspec": {
   "display_name": "Python 3",
   "language": "python",
   "name": "python3"
  },
  "language_info": {
   "codemirror_mode": {
    "name": "ipython",
    "version": 3
   },
   "file_extension": ".py",
   "mimetype": "text/x-python",
   "name": "python",
   "nbconvert_exporter": "python",
   "pygments_lexer": "ipython3",
   "version": "3.8.5"
  }
 },
 "nbformat": 4,
 "nbformat_minor": 4
}
